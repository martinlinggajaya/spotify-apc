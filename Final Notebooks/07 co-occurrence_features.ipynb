{
 "cells": [
  {
   "cell_type": "code",
   "execution_count": 1,
   "metadata": {},
   "outputs": [],
   "source": [
    "import pyspark\n",
    "import pandas as pd\n",
    "import numpy as np\n",
    "import scipy.sparse as sp"
   ]
  },
  {
   "cell_type": "code",
   "execution_count": 2,
   "metadata": {},
   "outputs": [],
   "source": [
    "# Initialize pyspark\n",
    "\n",
    "from pyspark.sql import SparkSession\n",
    "\n",
    "spark = SparkSession.builder \\\n",
    "                    .appName(\"LightFM Features\") \\\n",
    "                    .getOrCreate()"
   ]
  },
  {
   "cell_type": "code",
   "execution_count": 3,
   "metadata": {},
   "outputs": [],
   "source": [
    "# Load train dataframe\n",
    "\n",
    "path_to_df = 'gs://thesis_apc_bucket/df_data2'\n",
    "\n",
    "df_data = spark.read.orc(path_to_df + '/df_train.orc')"
   ]
  },
  {
   "cell_type": "code",
   "execution_count": 4,
   "metadata": {},
   "outputs": [],
   "source": [
    "# Drop duplicate rows in pid and tid columns\n",
    "\n",
    "df_data = df_data.dropDuplicates(['pid', 'tid'])"
   ]
  },
  {
   "cell_type": "code",
   "execution_count": 5,
   "metadata": {},
   "outputs": [],
   "source": [
    "# Get number of playlists and number of tracks\n",
    "\n",
    "tid_max = df_data.agg({'tid': 'max'}).collect()[0]['max(tid)']\n",
    "\n",
    "num_tracks = tid_max + 1"
   ]
  },
  {
   "cell_type": "code",
   "execution_count": 6,
   "metadata": {},
   "outputs": [
    {
     "data": {
      "text/plain": [
       "995382"
      ]
     },
     "execution_count": 6,
     "metadata": {},
     "output_type": "execute_result"
    }
   ],
   "source": [
    "num_tracks"
   ]
  },
  {
   "cell_type": "code",
   "execution_count": 8,
   "metadata": {},
   "outputs": [],
   "source": [
    "data = df_data.toPandas()"
   ]
  },
  {
   "cell_type": "code",
   "execution_count": 10,
   "metadata": {
    "tags": []
   },
   "outputs": [
    {
     "name": "stdout",
     "output_type": "stream",
     "text": [
      "0.0\n",
      "1.0\n",
      "2.0\n",
      "3.0\n",
      "4.0\n",
      "5.0\n",
      "6.0\n",
      "7.0\n",
      "8.0\n",
      "9.0\n",
      "10.0\n",
      "11.0\n",
      "12.0\n",
      "13.0\n",
      "14.0\n",
      "15.0\n",
      "16.0\n",
      "17.0\n",
      "18.0\n",
      "19.0\n",
      "CPU times: user 6min 47s, sys: 8.8 s, total: 6min 56s\n",
      "Wall time: 6min 55s\n"
     ]
    }
   ],
   "source": [
    "%%time\n",
    "\n",
    "# Calculate occurrences\n",
    "\n",
    "from collections import defaultdict\n",
    "from pyspark.sql.functions import col\n",
    "\n",
    "co_occurrence_2 = [defaultdict(int) for i in range(num_tracks)]\n",
    "# co_occurrence_3 = [defaultdict(lambda: defaultdict(int)) for i in range(num_tracks)]\n",
    "occurrence = [0 for i in range(num_tracks)]\n",
    "# pids = data.select('pid').distinct().rdd.map(lambda x: x[0]).collect()\n",
    "\n",
    "for q, (_, df) in enumerate(data.groupby('pid')):\n",
    "    if q % 10000 == 0:\n",
    "        print(q / 10000)\n",
    "    tids = list(df.tid)\n",
    "    for i in tids:\n",
    "        occurrence[i] += 1\n",
    "    for k, i in enumerate(tids):\n",
    "        for j in tids[k + 1:]:\n",
    "#             temp_tids = [i] + [j]\n",
    "#             temp_tids.sort()\n",
    "            co_occurrence_2[i][j] += 1\n",
    "            co_occurrence_2[j][i] += 1\n",
    "#             for l in tids[k + 2:]:\n",
    "#                 temp_tids += [l]\n",
    "#                 temp_tids.sort()\n",
    "#                 co_occurrence_3[temp_tids[0]][temp_tids[1]][temp_tids[2]] += 1"
   ]
  },
  {
   "cell_type": "code",
   "execution_count": 30,
   "metadata": {},
   "outputs": [],
   "source": [
    "# Group pids by tid\n",
    "\n",
    "data_tracks = data.groupby('tid').pid.apply(list)"
   ]
  },
  {
   "cell_type": "code",
   "execution_count": 31,
   "metadata": {},
   "outputs": [],
   "source": [
    "# Define function to get co-occurrence-3 values from data\n",
    "\n",
    "def find_co_occurrence_3(i, j, k):\n",
    "    set_i = set(data_tracks[i])\n",
    "    set_j = set(data_tracks[j])\n",
    "    set_k = set(data_tracks[k])\n",
    "    return len(set.intersection(set_i, set_j, set_k))"
   ]
  },
  {
   "cell_type": "code",
   "execution_count": 37,
   "metadata": {
    "tags": []
   },
   "outputs": [],
   "source": [
    "def get_f(i, f):\n",
    "    if len(i) == 0:\n",
    "        return -1\n",
    "    else:\n",
    "        return f(i)\n",
    "    \n",
    "def create_co_occurrence_features(df):\n",
    "    \n",
    "    df = df.toPandas()\n",
    "    \n",
    "    pids = df.pid.unique()\n",
    "    seed = data[data.pid.isin(pids)]\n",
    "    tid_seed = seed.groupby('pid').tid.apply(list)\n",
    "    \n",
    "    co_occurrence_seq = []\n",
    "    print('Creating features...')\n",
    "    count = 0\n",
    "    for pid, tid in df[['pid', 'tid']].values:\n",
    "        tid = int(tid)\n",
    "        count += 1\n",
    "        if (count % 1000000 == 0):\n",
    "            print(count / 1000000)\n",
    "        tracks = tid_seed.get(pid, [])\n",
    "        co_occurrence_seq.append(np.array([co_occurrence_2[tid][i] for i in tracks]))\n",
    "        \n",
    "    df['co_occurrence_max'] = [get_f(i, np.max) for i in co_occurrence_seq]\n",
    "    df['co_occurrence_min'] = [get_f(i, np.min) for i in co_occurrence_seq]\n",
    "    df['co_occurrence_mean'] = [get_f(i, np.mean) for i in co_occurrence_seq]\n",
    "    df['co_occurrence_median'] = [get_f(i, np.median) for i in co_occurrence_seq]\n",
    "    \n",
    "    co_occurrence_seq = []\n",
    "    print('Creating normalized features...')\n",
    "    count = 0\n",
    "    for pid, tid in df[['pid', 'tid']].values:\n",
    "        tid = int(tid)\n",
    "        count += 1\n",
    "        if (count % 1000000 == 0):\n",
    "            print(count / 1000000)\n",
    "        tracks = tid_seed.get(pid, [])\n",
    "        seq = np.empty(0)   # Initiate array\n",
    "        for k in range(len(tracks) - 1):\n",
    "            seq = np.append(seq, find_co_occurrence_3(tid, tracks[k], tracks[k+1]) / co_occurrence_2[tid][tracks[k]] \n",
    "                            if co_occurrence_2[tid][tracks[k]] > 0 else 0)\n",
    "        co_occurrence_seq.append(seq)\n",
    "#         if (count % 1000000 == 0):\n",
    "#             print(co_occurence_seq)\n",
    "        \n",
    "    df['co_occurrence_norm_max'] = [get_f(i, np.max) for i in co_occurrence_seq]\n",
    "    df['co_occurrence_norm_min'] = [get_f(i, np.min) for i in co_occurrence_seq]\n",
    "    df['co_occurrence_norm_mean'] = [get_f(i, np.mean) for i in co_occurrence_seq]\n",
    "    df['co_occurrence_norm_median'] = [get_f(i, np.median) for i in co_occurrence_seq]\n",
    "    \n",
    "    res = spark.createDataFrame(df)\n",
    "    return res"
   ]
  },
  {
   "cell_type": "code",
   "execution_count": 38,
   "metadata": {
    "ExecuteTime": {
     "end_time": "2018-07-01T16:29:45.279856Z",
     "start_time": "2018-07-01T16:29:44.562215Z"
    }
   },
   "outputs": [],
   "source": [
    "# Load candidates\n",
    "\n",
    "import pandas as pd\n",
    "\n",
    "path_to_df = 'gs://thesis_apc_bucket/df_data2'\n",
    "\n",
    "df_train = spark.read.orc(path_to_df + '/ii_candidate.orc')\n",
    "df_val = spark.read.orc(path_to_df + '/iii_candidate.orc')\n",
    "df_test = spark.read.orc(path_to_df + '/test_candidate.orc') "
   ]
  },
  {
   "cell_type": "code",
   "execution_count": null,
   "metadata": {
    "ExecuteTime": {
     "end_time": "2018-07-01T18:57:02.629459Z",
     "start_time": "2018-07-01T17:28:02.269776Z"
    }
   },
   "outputs": [
    {
     "name": "stdout",
     "output_type": "stream",
     "text": [
      "Creating features...\n",
      "1.0\n",
      "2.0\n",
      "3.0\n",
      "4.0\n",
      "5.0\n",
      "6.0\n",
      "7.0\n",
      "Creating normalized features...\n",
      "1.0\n",
      "2.0\n",
      "3.0\n",
      "4.0\n",
      "5.0\n",
      "6.0\n",
      "7.0\n",
      "CPU times: user 5h 50min 19s, sys: 1min 52s, total: 5h 52min 12s\n",
      "Wall time: 5h 49min 15s\n"
     ]
    }
   ],
   "source": [
    "%%time\n",
    "\n",
    "df_train = create_co_occurrence_features(df_train)"
   ]
  },
  {
   "cell_type": "code",
   "execution_count": 48,
   "metadata": {},
   "outputs": [
    {
     "name": "stdout",
     "output_type": "stream",
     "text": [
      "+-------+-----------------+-----------------+------------------+-----------------+------------------+--------------------+----------------------+----------------------+-----------------------+-------------------------+\n",
      "|summary|              pid|              tid| co_occurrence_max|co_occurrence_min|co_occurrence_mean|co_occurrence_median|co_occurrence_norm_max|co_occurrence_norm_min|co_occurrence_norm_mean|co_occurrence_norm_median|\n",
      "+-------+-----------------+-----------------+------------------+-----------------+------------------+--------------------+----------------------+----------------------+-----------------------+-------------------------+\n",
      "|  count|          7987156|          7987156|           7987156|          7987156|           7987156|             7987156|               7987156|               7987156|                7987156|                  7987156|\n",
      "|   mean|170564.1963632612|525140.5247017837|101.83391960793054|6.523235429482034|29.011425799467858|  20.682589209475815|   0.21890887921541496|  -0.17185876044952636|   -0.09555311315466586|       -0.131261518306588|\n",
      "| stddev|71861.95041947361|72470.82920492033|189.44488064338174|37.14486234563806| 61.25397769759825|   54.76895267540225|    0.6634260480843635|   0.39404228521677986|    0.44171454989155934|       0.4268221244628509|\n",
      "|    min|             16.0|                1|                -1|               -1|              -1.0|                -1.0|                  -1.0|                  -1.0|                   -1.0|                     -1.0|\n",
      "|    max|         278998.0|           995379|              3469|             3469|            3469.0|              3469.0|                   1.0|                   1.0|                    1.0|                      1.0|\n",
      "+-------+-----------------+-----------------+------------------+-----------------+------------------+--------------------+----------------------+----------------------+-----------------------+-------------------------+\n",
      "\n",
      "CPU times: user 2.39 ms, sys: 1.55 ms, total: 3.94 ms\n",
      "Wall time: 3.82 s\n"
     ]
    }
   ],
   "source": [
    "%%time\n",
    "\n",
    "df_train.describe().show()"
   ]
  },
  {
   "cell_type": "code",
   "execution_count": 49,
   "metadata": {},
   "outputs": [],
   "source": [
    "df_train.write.mode('overwrite').orc(path_to_df + '/ii_co_occurrence_features')"
   ]
  },
  {
   "cell_type": "code",
   "execution_count": null,
   "metadata": {
    "ExecuteTime": {
     "end_time": "2018-07-01T18:57:02.629459Z",
     "start_time": "2018-07-01T17:28:02.269776Z"
    }
   },
   "outputs": [
    {
     "name": "stdout",
     "output_type": "stream",
     "text": [
      "Creating features...\n",
      "1.0\n",
      "2.0\n",
      "3.0\n",
      "4.0\n",
      "5.0\n",
      "6.0\n",
      "7.0\n",
      "Creating normalized features...\n",
      "1.0\n",
      "2.0\n",
      "3.0\n",
      "4.0\n",
      "5.0\n",
      "6.0\n",
      "7.0\n",
      "CPU times: user 5h 47min 54s, sys: 1min 40s, total: 5h 49min 35s\n",
      "Wall time: 5h 47min 3s\n"
     ]
    }
   ],
   "source": [
    "%%time\n",
    "\n",
    "df_val = create_co_occurrence_features(df_val)"
   ]
  },
  {
   "cell_type": "code",
   "execution_count": null,
   "metadata": {},
   "outputs": [
    {
     "name": "stdout",
     "output_type": "stream",
     "text": [
      "+--------+------+------+-----------------+-----------------+------------------+--------------------+----------------------+----------------------+-----------------------+-------------------------+\n",
      "|     pid|   tid|target|co_occurrence_max|co_occurrence_min|co_occurrence_mean|co_occurrence_median|co_occurrence_norm_max|co_occurrence_norm_min|co_occurrence_norm_mean|co_occurrence_norm_median|\n",
      "+--------+------+------+-----------------+-----------------+------------------+--------------------+----------------------+----------------------+-----------------------+-------------------------+\n",
      "|243154.0|511264| false|               -1|               -1|              -1.0|                -1.0|                  -1.0|                  -1.0|                   -1.0|                     -1.0|\n",
      "|243154.0|511250| false|               -1|               -1|              -1.0|                -1.0|                  -1.0|                  -1.0|                   -1.0|                     -1.0|\n",
      "|243154.0|515891| false|               -1|               -1|              -1.0|                -1.0|                  -1.0|                  -1.0|                   -1.0|                     -1.0|\n",
      "|243154.0|511762| false|               -1|               -1|              -1.0|                -1.0|                  -1.0|                  -1.0|                   -1.0|                     -1.0|\n",
      "|243154.0|510271| false|               -1|               -1|              -1.0|                -1.0|                  -1.0|                  -1.0|                   -1.0|                     -1.0|\n",
      "|243154.0|521042| false|               -1|               -1|              -1.0|                -1.0|                  -1.0|                  -1.0|                   -1.0|                     -1.0|\n",
      "|243154.0|511733| false|               -1|               -1|              -1.0|                -1.0|                  -1.0|                  -1.0|                   -1.0|                     -1.0|\n",
      "|243154.0|511298| false|               -1|               -1|              -1.0|                -1.0|                  -1.0|                  -1.0|                   -1.0|                     -1.0|\n",
      "|243154.0|511510| false|               -1|               -1|              -1.0|                -1.0|                  -1.0|                  -1.0|                   -1.0|                     -1.0|\n",
      "|243154.0|514006| false|               -1|               -1|              -1.0|                -1.0|                  -1.0|                  -1.0|                   -1.0|                     -1.0|\n",
      "|243154.0|512628| false|               -1|               -1|              -1.0|                -1.0|                  -1.0|                  -1.0|                   -1.0|                     -1.0|\n",
      "|243154.0|514530| false|               -1|               -1|              -1.0|                -1.0|                  -1.0|                  -1.0|                   -1.0|                     -1.0|\n",
      "|243154.0|511551| false|               -1|               -1|              -1.0|                -1.0|                  -1.0|                  -1.0|                   -1.0|                     -1.0|\n",
      "|243154.0|513618| false|               -1|               -1|              -1.0|                -1.0|                  -1.0|                  -1.0|                   -1.0|                     -1.0|\n",
      "|243154.0|511486| false|               -1|               -1|              -1.0|                -1.0|                  -1.0|                  -1.0|                   -1.0|                     -1.0|\n",
      "|243154.0|515598| false|               -1|               -1|              -1.0|                -1.0|                  -1.0|                  -1.0|                   -1.0|                     -1.0|\n",
      "|243154.0|511495| false|               -1|               -1|              -1.0|                -1.0|                  -1.0|                  -1.0|                   -1.0|                     -1.0|\n",
      "|243154.0|511236| false|               -1|               -1|              -1.0|                -1.0|                  -1.0|                  -1.0|                   -1.0|                     -1.0|\n",
      "|243154.0|515829| false|               -1|               -1|              -1.0|                -1.0|                  -1.0|                  -1.0|                   -1.0|                     -1.0|\n",
      "|243154.0|511779| false|               -1|               -1|              -1.0|                -1.0|                  -1.0|                  -1.0|                   -1.0|                     -1.0|\n",
      "+--------+------+------+-----------------+-----------------+------------------+--------------------+----------------------+----------------------+-----------------------+-------------------------+\n",
      "only showing top 20 rows\n",
      "\n",
      "CPU times: user 2.29 ms, sys: 0 ns, total: 2.29 ms\n",
      "Wall time: 1.19 s\n"
     ]
    }
   ],
   "source": [
    "%%time\n",
    "\n",
    "df_val.show()"
   ]
  },
  {
   "cell_type": "code",
   "execution_count": null,
   "metadata": {},
   "outputs": [],
   "source": [
    "df_val.write.mode('overwrite').orc(path_to_df + '/iii_co_occurrence_features')"
   ]
  },
  {
   "cell_type": "code",
   "execution_count": null,
   "metadata": {
    "ExecuteTime": {
     "end_time": "2018-07-01T18:57:02.629459Z",
     "start_time": "2018-07-01T17:28:02.269776Z"
    }
   },
   "outputs": [
    {
     "name": "stdout",
     "output_type": "stream",
     "text": [
      "Creating features...\n",
      "1.0\n",
      "2.0\n",
      "3.0\n",
      "4.0\n",
      "5.0\n",
      "6.0\n",
      "7.0\n",
      "Creating normalized features...\n",
      "1.0\n",
      "2.0\n",
      "3.0\n",
      "4.0\n",
      "5.0\n",
      "6.0\n",
      "CPU times: user 5h 34min 6s, sys: 1min 43s, total: 5h 35min 49s\n",
      "Wall time: 5h 33min 16s\n"
     ]
    }
   ],
   "source": [
    "%%time\n",
    "\n",
    "df_test = create_co_occurrence_features(df_test)"
   ]
  },
  {
   "cell_type": "code",
   "execution_count": null,
   "metadata": {
    "scrolled": true
   },
   "outputs": [
    {
     "name": "stdout",
     "output_type": "stream",
     "text": [
      "+--------+------+-----------------+-----------------+------------------+--------------------+----------------------+----------------------+-----------------------+-------------------------+\n",
      "|     pid|   tid|co_occurrence_max|co_occurrence_min|co_occurrence_mean|co_occurrence_median|co_occurrence_norm_max|co_occurrence_norm_min|co_occurrence_norm_mean|co_occurrence_norm_median|\n",
      "+--------+------+-----------------+-----------------+------------------+--------------------+----------------------+----------------------+-----------------------+-------------------------+\n",
      "|242381.0|519900|              188|                3|              99.4|                93.0|    0.3333333333333333|    0.2465753424657534|    0.28003861288218335|       0.2701228878648233|\n",
      "|242381.0|512343|               47|                0|              18.8|                12.0|                   0.5|                   0.0|    0.21985815602836878|      0.18971631205673758|\n",
      "|242381.0|543652|               37|                0|              23.4|                28.0|    0.2857142857142857|                   0.0|    0.17824967824967825|      0.21364221364221364|\n",
      "|242381.0|510606|              238|                5|             142.4|               178.0|   0.25806451612903225|                   0.0|    0.18310750497657519|      0.23718275188863425|\n",
      "|242381.0|514520|               64|                0|              30.8|                21.0|    0.2631578947368421|                   0.0|    0.17531328320802003|      0.21904761904761905|\n",
      "|242381.0|533237|               19|                3|              10.2|                11.0|   0.42857142857142855|                   0.0|    0.26384142173615854|       0.3133971291866029|\n",
      "|242381.0|512672|              186|                6|              94.0|                99.0|   0.36363636363636365|                   0.0|    0.22017854062446096|      0.25853889943074004|\n",
      "|242381.0|546463|               16|                2|              10.8|                12.0|                   0.5|                   0.0|    0.27499999999999997|                      0.3|\n",
      "|242381.0|541301|               73|                0|              43.4|                42.0|    0.3333333333333333|                   0.0|     0.2202284946236559|       0.2737903225806452|\n",
      "|242381.0|511532|              134|                1|              75.4|                89.0|   0.29133858267716534|                   0.0|    0.18508615820170274|       0.2245030250648228|\n",
      "|242381.0|510617|               55|                0|              30.8|                35.0|    0.5384615384615384|                   0.0|    0.24567981038569273|      0.22212885154061623|\n",
      "|242381.0|532416|              153|                2|              76.0|                75.0|    0.2871287128712871|                   0.0|    0.15903708017860607|      0.17450980392156862|\n",
      "|242381.0|674834|               21|                1|               7.8|                 4.0|                   1.0|                   0.0|     0.4602272727272727|      0.42045454545454547|\n",
      "|242381.0|511250|              262|                4|             164.8|               206.0|   0.30303030303030304|                   0.0|     0.1855367204992937|      0.21955828948343586|\n",
      "|242381.0|582849|               46|                0|              24.4|                23.0|   0.34146341463414637|                   0.0|     0.2013078826440438|      0.23188405797101447|\n",
      "|242381.0|537454|                7|                1|               4.4|                 5.0|                   1.0|                   0.0|     0.4464285714285714|      0.39285714285714285|\n",
      "|242381.0|556567|               20|                0|              11.2|                14.0|    0.5714285714285714|                   0.0|    0.33035714285714285|                    0.375|\n",
      "|242381.0|512922|               93|                0|              38.8|                32.0|                0.3125|                   0.0|    0.21609669811320753|      0.27594339622641506|\n",
      "|242381.0|556004|               25|                2|              17.4|                21.0|                 0.375|                   0.0|    0.19571687370600413|      0.20393374741200826|\n",
      "|242381.0|571628|               29|                2|              16.6|                20.0|                  0.55|                   0.0|     0.2892241379310345|      0.30344827586206896|\n",
      "+--------+------+-----------------+-----------------+------------------+--------------------+----------------------+----------------------+-----------------------+-------------------------+\n",
      "only showing top 20 rows\n",
      "\n",
      "CPU times: user 1.6 ms, sys: 9 µs, total: 1.61 ms\n",
      "Wall time: 717 ms\n"
     ]
    }
   ],
   "source": [
    "%%time\n",
    "\n",
    "df_test.show()"
   ]
  },
  {
   "cell_type": "code",
   "execution_count": null,
   "metadata": {},
   "outputs": [
    {
     "name": "stdout",
     "output_type": "stream",
     "text": [
      "CPU times: user 3.47 ms, sys: 9 µs, total: 3.48 ms\n",
      "Wall time: 8.11 s\n"
     ]
    }
   ],
   "source": [
    "%%time\n",
    "\n",
    "df_train.write.mode('overwrite').orc(path_to_df + '/ii_co_occurrence_features')\n",
    "df_val.write.mode('overwrite').orc(path_to_df + '/iii_co_occurrence_features')\n",
    "df_test.write.mode('overwrite').orc(path_to_df + '/test_co_occurrence_features')"
   ]
  },
  {
   "cell_type": "code",
   "execution_count": null,
   "metadata": {},
   "outputs": [],
   "source": []
  }
 ],
 "metadata": {
  "kernelspec": {
   "display_name": "Python 3",
   "language": "python",
   "name": "python3"
  },
  "language_info": {
   "codemirror_mode": {
    "name": "ipython",
    "version": 3
   },
   "file_extension": ".py",
   "mimetype": "text/x-python",
   "name": "python",
   "nbconvert_exporter": "python",
   "pygments_lexer": "ipython3",
   "version": "3.8.8"
  }
 },
 "nbformat": 4,
 "nbformat_minor": 4
}
