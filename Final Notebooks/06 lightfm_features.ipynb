{
 "cells": [
  {
   "cell_type": "code",
   "execution_count": 1,
   "metadata": {},
   "outputs": [],
   "source": [
    "import pyspark\n",
    "import pandas as pd\n",
    "import numpy as np\n",
    "import scipy.sparse as sp\n",
    "from lightfm import LightFM"
   ]
  },
  {
   "cell_type": "code",
   "execution_count": 2,
   "metadata": {},
   "outputs": [],
   "source": [
    "# Initialize pyspark\n",
    "\n",
    "from pyspark.sql import SparkSession\n",
    "\n",
    "spark = SparkSession.builder \\\n",
    "                    .appName(\"LightFM Features\") \\\n",
    "                    .getOrCreate()"
   ]
  },
  {
   "cell_type": "code",
   "execution_count": 3,
   "metadata": {},
   "outputs": [],
   "source": [
    "# Function to calculate representation and bias between objects and features\n",
    "\n",
    "def precompute_representation(features, feature_embeddings, feature_biases):\n",
    "    representation = features.dot(feature_embeddings)\n",
    "    representation_bias = features.dot(feature_biases)\n",
    "    return representation, representation_bias"
   ]
  },
  {
   "cell_type": "code",
   "execution_count": 4,
   "metadata": {
    "ExecuteTime": {
     "end_time": "2018-07-01T16:29:44.559552Z",
     "start_time": "2018-07-01T16:29:28.766427Z"
    }
   },
   "outputs": [],
   "source": [
    "# Load models and features\n",
    "\n",
    "import joblib\n",
    "\n",
    "path_to_models = 'models2'\n",
    "\n",
    "model = joblib.load(open(path_to_models + '/lightfm_model.pkl', 'rb'))\n",
    "model_text = joblib.load(open(path_to_models + '/lightfm_model_text.pkl', 'rb'))\n",
    "user_features = joblib.load(open(path_to_models + '/user_features.pkl', 'rb'))\n",
    "\n",
    "_user_repr, _user_repr_biases = precompute_representation(\n",
    "    features=user_features,\n",
    "    feature_embeddings=model_text.user_embeddings,\n",
    "    feature_biases=model_text.user_biases,\n",
    ")"
   ]
  },
  {
   "cell_type": "code",
   "execution_count": 5,
   "metadata": {
    "ExecuteTime": {
     "end_time": "2018-07-01T16:29:45.279856Z",
     "start_time": "2018-07-01T16:29:44.562215Z"
    }
   },
   "outputs": [],
   "source": [
    "# Load candidates\n",
    "\n",
    "import pandas as pd\n",
    "\n",
    "path_to_df = 'gs://thesis_apc_bucket/df_data2'\n",
    "\n",
    "df_train = spark.read.orc(path_to_df + '/ii_candidate.orc')\n",
    "df_val = spark.read.orc(path_to_df + '/iii_candidate.orc')\n",
    "df_test = spark.read.orc(path_to_df + '/test_candidate.orc')"
   ]
  },
  {
   "cell_type": "code",
   "execution_count": 6,
   "metadata": {
    "jupyter": {
     "source_hidden": true
    },
    "tags": []
   },
   "outputs": [
    {
     "name": "stdout",
     "output_type": "stream",
     "text": [
      "CPU times: user 1e+03 ns, sys: 2 µs, total: 3 µs\n",
      "Wall time: 4.77 µs\n"
     ]
    }
   ],
   "source": [
    "%%time\n",
    "\n",
    "# from pyspark.sql.types import StructType, StructField, FloatType, ArrayType, IntegerType\n",
    "\n",
    "# # Get bias and embeddings from both models for playlists\n",
    "# playlist_results = pd.DataFrame({'pid_bias': model.user_biases, 'pid_embedding': list(model.user_embeddings),\n",
    "#                                  'pid_bias_text': _user_repr_biases, 'pid_embedding_text': list(_user_repr)})\n",
    "# playlist_results['pid'] = playlist_results.index\n",
    "\n",
    "# # Convert into Spark dataframe\n",
    "# playlist_schema = StructType([\n",
    "#     StructField('pid_bias', FloatType(), True),\n",
    "#     StructField('pid_embedding', ArrayType(FloatType()), True),\n",
    "#     StructField('pid_bias_text', FloatType(), True),\n",
    "#     StructField('pid_embedding_text', ArrayType(FloatType()), True),\n",
    "#     StructField('pid', IntegerType(), True),\n",
    "#   ])\n",
    "# df_playlist_results = spark.createDataFrame(playlist_results, schema=playlist_schema)\n",
    "    \n",
    "# # Get bias and embeddings from both models for tracks\n",
    "# track_results = pd.DataFrame({'tid_bias': model.item_biases, 'tid_embedding': list(model.item_embeddings.tolist()),\n",
    "#                               'tid_bias_text': model_text.item_biases, 'tid_embedding_text': list(model_text.item_embeddings.tolist())})\n",
    "# track_results['tid'] = track_results.index\n",
    "\n",
    "# # Convert into Spark dataframe\n",
    "# track_schema = StructType([\n",
    "#     StructField('tid_bias', FloatType(), True),\n",
    "#     StructField('tid_embedding', ArrayType(FloatType()), True),\n",
    "#     StructField('tid_bias_text', FloatType(), True),\n",
    "#     StructField('tid_embedding_text', ArrayType(FloatType()), True),\n",
    "#     StructField('tid', IntegerType(), True),\n",
    "#   ])\n",
    "# df_track_results = spark.createDataFrame(track_results, schema=track_schema)"
   ]
  },
  {
   "cell_type": "code",
   "execution_count": 8,
   "metadata": {},
   "outputs": [],
   "source": [
    "def add_embeddings_and_biases(df):\n",
    "    res = df.toPandas()\n",
    "    \n",
    "    pids = [int(pid) for pid in res.pid]\n",
    "    tids = [int(tid) for tid in res.tid]\n",
    "    \n",
    "    res['pid_bias'] = model.user_biases[pids]\n",
    "    res['tid_bias'] = model.item_biases[tids]\n",
    "    \n",
    "    pid_embeddings = model.user_embeddings[pids]\n",
    "    tid_embeddings = model.item_embeddings[tids]\n",
    "    \n",
    "    res['lightfm_dot_product'] = (pid_embeddings * tid_embeddings).sum(axis=1)\n",
    "    \n",
    "    res['pid_bias_text'] = _user_repr_biases[pids]\n",
    "    res['tid_bias_text'] = model_text.item_biases[tids]\n",
    "    \n",
    "    pid_embeddings = _user_repr[pids]\n",
    "    tid_embeddings = model_text.item_embeddings[tids]\n",
    "\n",
    "    res['lightfm_dot_product_text'] = (pid_embeddings * tid_embeddings).sum(axis=1)\n",
    "    \n",
    "    final = spark.createDataFrame(res)\n",
    "    \n",
    "    return final"
   ]
  },
  {
   "cell_type": "code",
   "execution_count": 9,
   "metadata": {},
   "outputs": [],
   "source": [
    "# UDF for calculating dot product\n",
    "\n",
    "from pyspark.sql.functions import pandas_udf, array\n",
    "from pyspark.sql.types import DoubleType\n",
    "\n",
    "@pandas_udf('float')\n",
    "def dotProduct(arr1: pd.Series, arr2: pd.Series) -> pd.Series:\n",
    "    res = [np.dot(x, y) for x,y in zip(arr1, arr2)]\n",
    "    return pd.Series(res)"
   ]
  },
  {
   "cell_type": "code",
   "execution_count": 10,
   "metadata": {
    "ExecuteTime": {
     "end_time": "2018-07-01T16:29:28.544588Z",
     "start_time": "2018-07-01T16:29:28.519593Z"
    }
   },
   "outputs": [],
   "source": [
    "from pyspark.sql import Window\n",
    "from pyspark.sql.functions import col, dense_rank, desc\n",
    "\n",
    "def create_lightfm_features(df):\n",
    "    \n",
    "    df = add_embeddings_and_biases(df)\n",
    "    \n",
    "    # Generate dot product of embeddings and overall score\n",
    "    df = df.withColumn('lightfm_prediction', col('lightfm_dot_product') + col('pid_bias') + col('tid_bias')) \\\n",
    "           .withColumn('lightfm_prediction_text', col('lightfm_dot_product_text') + col('pid_bias_text') + col('tid_bias_text'))\n",
    "    \n",
    "    # Get rank of candidates by sorting score\n",
    "    lightfm_window = Window.partitionBy('pid').orderBy(desc('lightfm_prediction'))\n",
    "    lightfm_text_window = Window.partitionBy('pid').orderBy(desc('lightfm_prediction_text'))\n",
    "    df = df.withColumn('lightfm_rank', dense_rank().over(lightfm_window)) \\\n",
    "            .withColumn('lightfm_rank_text', dense_rank().over(lightfm_text_window))\n",
    "    \n",
    "    # For checking\n",
    "    print('Done')\n",
    "    \n",
    "    return df"
   ]
  },
  {
   "cell_type": "code",
   "execution_count": 13,
   "metadata": {
    "ExecuteTime": {
     "end_time": "2018-07-01T16:32:36.766377Z",
     "start_time": "2018-07-01T16:29:45.281906Z"
    }
   },
   "outputs": [
    {
     "name": "stdout",
     "output_type": "stream",
     "text": [
      "Done\n",
      "+----+------+------+-----------+----------+-------------------+-------------------+-------------+------------------------+------------------+-----------------------+------------+-----------------+\n",
      "| pid|   tid|target|   pid_bias|  tid_bias|lightfm_dot_product|      pid_bias_text|tid_bias_text|lightfm_dot_product_text|lightfm_prediction|lightfm_prediction_text|lightfm_rank|lightfm_rank_text|\n",
      "+----+------+------+-----------+----------+-------------------+-------------------+-------------+------------------------+------------------+-----------------------+------------+-----------------+\n",
      "|26.0|519034| false|-0.08734558| 0.9021774|          0.5924262|-23.697782546281815|    0.6261367|       4.862977839216418|          1.407258|    -18.208667986884883|         557|                1|\n",
      "|26.0|523329| false|-0.08734558| 0.5229688|          1.4899194|-23.697782546281815|   0.45235774|       5.007797977901631|         1.9255426|    -18.237626829170054|          61|                2|\n",
      "|26.0|528151| false|-0.08734558|0.66434073|          0.8709682|-23.697782546281815|    0.5303005|       4.926002385037673|         1.4479634|    -18.241479663235413|         459|                3|\n",
      "|26.0|511617| false|-0.08734558|0.93251777|         0.68731767|-23.697782546281815|    0.6975579|        4.67793663731351|         1.5324898|    -18.322287982790325|         306|                4|\n",
      "|26.0|512356| false|-0.08734558|  1.400504|          0.9444229|-23.697782546281815|   0.88684946|       4.412858074101946|         2.2575812|    -18.398075009193875|           7|                5|\n",
      "+----+------+------+-----------+----------+-------------------+-------------------+-------------+------------------------+------------------+-----------------------+------------+-----------------+\n",
      "only showing top 5 rows\n",
      "\n",
      "CPU times: user 14.6 s, sys: 13.2 s, total: 27.8 s\n",
      "Wall time: 34.8 s\n"
     ]
    }
   ],
   "source": [
    "%%time\n",
    "\n",
    "df_train = create_lightfm_features(df_train)\n",
    "df_train.show(5)"
   ]
  },
  {
   "cell_type": "code",
   "execution_count": 15,
   "metadata": {
    "ExecuteTime": {
     "end_time": "2018-07-01T16:32:36.766377Z",
     "start_time": "2018-07-01T16:29:45.281906Z"
    }
   },
   "outputs": [
    {
     "name": "stdout",
     "output_type": "stream",
     "text": [
      "Done\n",
      "+----+------+------+-----------+-------------+-------------------+-------------------+-------------+------------------------+------------------+-----------------------+------------+-----------------+\n",
      "| pid|   tid|target|   pid_bias|     tid_bias|lightfm_dot_product|      pid_bias_text|tid_bias_text|lightfm_dot_product_text|lightfm_prediction|lightfm_prediction_text|lightfm_rank|lightfm_rank_text|\n",
      "+----+------+------+-----------+-------------+-------------------+-------------------+-------------+------------------------+------------------+-----------------------+------------+-----------------+\n",
      "|30.0|511391| false|-0.37722275|-0.0070896107|          1.3922765|-31.178849518299103|   0.35649538|       4.097497194110817|         1.0079641|    -26.724856943786676|         253|                1|\n",
      "|30.0|589019| false|-0.37722275|   0.34427986|          1.4790885|-31.178849518299103|    0.5170483|       3.793315889032227|         1.4461457|    -26.868485329954282|          10|                2|\n",
      "|30.0|558421| false|-0.37722275|   0.25477955|          1.4611087|-31.178849518299103|   0.37905356|      3.9042261787459385|         1.3386655|    -26.895569776673604|          34|                3|\n",
      "|30.0|610662| false|-0.37722275|   0.23118699|          1.0605323|-31.178849518299103|   0.37279683|       3.881737907210581|        0.91449654|    -26.924314777573354|         432|                4|\n",
      "|30.0|511387| false|-0.37722275|   0.20000021|          1.4420974|-31.178849518299103| -0.048625477|       4.293292562547157|         1.2648748|     -26.93418243241029|          50|                5|\n",
      "+----+------+------+-----------+-------------+-------------------+-------------------+-------------+------------------------+------------------+-----------------------+------------+-----------------+\n",
      "only showing top 5 rows\n",
      "\n",
      "CPU times: user 14.5 s, sys: 13.6 s, total: 28.1 s\n",
      "Wall time: 33.2 s\n"
     ]
    }
   ],
   "source": [
    "%%time\n",
    "\n",
    "df_val = create_lightfm_features(df_val)\n",
    "df_val.show(5)"
   ]
  },
  {
   "cell_type": "code",
   "execution_count": 16,
   "metadata": {
    "ExecuteTime": {
     "end_time": "2018-07-01T16:32:36.766377Z",
     "start_time": "2018-07-01T16:29:45.281906Z"
    }
   },
   "outputs": [
    {
     "name": "stdout",
     "output_type": "stream",
     "text": [
      "Done\n",
      "+-----+------+-----------+---------+-------------------+--------------------+-------------+------------------------+------------------+-----------------------+------------+-----------------+\n",
      "|  pid|   tid|   pid_bias| tid_bias|lightfm_dot_product|       pid_bias_text|tid_bias_text|lightfm_dot_product_text|lightfm_prediction|lightfm_prediction_text|lightfm_rank|lightfm_rank_text|\n",
      "+-----+------+-----------+---------+-------------------+--------------------+-------------+------------------------+------------------+-----------------------+------------+-----------------+\n",
      "|180.0|511885|-0.06929762|1.4351802|         0.76276326|-0.22065338492393494|   0.87265104|        2.60760378886442|          2.128646|      3.259601444494532|          28|                1|\n",
      "|180.0|511988|-0.06929762| 1.299129|          1.1761954|-0.22065338492393494|   0.88705814|       2.501355251344644|         2.4060268|       3.16776000526806|           5|                2|\n",
      "|180.0|515885|-0.06929762|1.2555002|          0.8995406|-0.22065338492393494|    0.8843873|       2.475578571875668|         2.0857432|      3.139312501271344|          33|                3|\n",
      "|180.0|510951|-0.06929762|1.0656589|          1.5043055|-0.22065338492393494|    0.7785946|       2.572379710994876|         2.5006666|     3.1303209391461975|           3|                4|\n",
      "|180.0|513618|-0.06929762|1.5514705|         0.86749876|-0.22065338492393494|    1.0492419|       2.293941316887744|         2.3496716|     3.1225298324078397|           7|                5|\n",
      "+-----+------+-----------+---------+-------------------+--------------------+-------------+------------------------+------------------+-----------------------+------------+-----------------+\n",
      "only showing top 5 rows\n",
      "\n",
      "CPU times: user 14.5 s, sys: 13.3 s, total: 27.7 s\n",
      "Wall time: 32.8 s\n"
     ]
    }
   ],
   "source": [
    "%%time\n",
    "\n",
    "df_test = create_lightfm_features(df_test)\n",
    "df_test.show(5)"
   ]
  },
  {
   "cell_type": "code",
   "execution_count": 17,
   "metadata": {},
   "outputs": [],
   "source": [
    "df_train.write.mode('overwrite').orc(path_to_df + '/ii_lightfm_features.orc')\n",
    "df_val.write.mode('overwrite').orc(path_to_df + '/iii_lightfm_features.orc')\n",
    "df_test.write.mode('overwrite').orc(path_to_df + '/test_lightfm_features.orc')"
   ]
  },
  {
   "cell_type": "code",
   "execution_count": null,
   "metadata": {},
   "outputs": [],
   "source": []
  }
 ],
 "metadata": {
  "kernelspec": {
   "display_name": "Python 3",
   "language": "python",
   "name": "python3"
  },
  "language_info": {
   "codemirror_mode": {
    "name": "ipython",
    "version": 3
   },
   "file_extension": ".py",
   "mimetype": "text/x-python",
   "name": "python",
   "nbconvert_exporter": "python",
   "pygments_lexer": "ipython3",
   "version": "3.8.8"
  }
 },
 "nbformat": 4,
 "nbformat_minor": 4
}
