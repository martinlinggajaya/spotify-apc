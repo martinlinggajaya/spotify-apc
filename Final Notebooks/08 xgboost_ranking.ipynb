{
 "cells": [
  {
   "cell_type": "code",
   "execution_count": 1,
   "metadata": {},
   "outputs": [],
   "source": [
    "# ! pip install xgboost"
   ]
  },
  {
   "cell_type": "code",
   "execution_count": 2,
   "metadata": {},
   "outputs": [],
   "source": [
    "import pyspark\n",
    "import numpy as np\n",
    "import xgboost"
   ]
  },
  {
   "cell_type": "code",
   "execution_count": 3,
   "metadata": {},
   "outputs": [],
   "source": [
    "# Initialize pyspark\n",
    "\n",
    "from pyspark.sql import SparkSession\n",
    "\n",
    "spark = SparkSession.builder \\\n",
    "                    .master('local[*]')\\\n",
    "                    .appName(\"LightFM Features\") \\\n",
    "                    .getOrCreate()"
   ]
  },
  {
   "cell_type": "code",
   "execution_count": 4,
   "metadata": {},
   "outputs": [],
   "source": [
    "# Load train and metadata dataframes\n",
    "\n",
    "path_to_df = 'gs://thesis_apc_bucket/df_data2'\n",
    "\n",
    "df_data = spark.read.orc(path_to_df + '/df_train.orc')\n",
    "df_playlists_metadata = spark.read.orc(path_to_df + '/df_playlists_metadata.orc')\n",
    "df_test_playlists_metadata = spark.read.orc(path_to_df + '/df_test_metadata.orc')\n",
    "df_tracks = spark.read.orc(path_to_df + '/df_tracks.orc')"
   ]
  },
  {
   "cell_type": "code",
   "execution_count": 5,
   "metadata": {},
   "outputs": [],
   "source": [
    "# Index album and artist URI's\n",
    "\n",
    "from pyspark.ml.feature import StringIndexer\n",
    "\n",
    "album_indexer = StringIndexer(inputCol='album_uri', outputCol='album')\n",
    "artist_indexer = StringIndexer(inputCol='artist_uri', outputCol='artist')\n",
    "\n",
    "df_tracks = album_indexer.fit(df_tracks).transform(df_tracks)\n",
    "df_tracks = artist_indexer.fit(df_tracks).transform(df_tracks)"
   ]
  },
  {
   "cell_type": "code",
   "execution_count": 6,
   "metadata": {},
   "outputs": [],
   "source": [
    "# Load candidates\n",
    "\n",
    "import pandas as pd\n",
    "\n",
    "df_train = spark.read.orc(path_to_df + '/ii_candidate.orc')\n",
    "df_val = spark.read.orc(path_to_df + '/iii_candidate.orc')\n",
    "df_test = spark.read.orc(path_to_df + '/test_candidate.orc')"
   ]
  },
  {
   "cell_type": "code",
   "execution_count": 7,
   "metadata": {},
   "outputs": [],
   "source": [
    "# Load holdout dataframes\n",
    "\n",
    "df_train_holdouts = spark.read.orc(path_to_df + '/df_val1.orc')\n",
    "df_val_holdouts = spark.read.orc(path_to_df + '/df_val2.orc')"
   ]
  },
  {
   "cell_type": "code",
   "execution_count": 8,
   "metadata": {},
   "outputs": [],
   "source": [
    "# Add num_holdouts column to test metadata dataframe\n",
    "\n",
    "from pyspark.sql.functions import col\n",
    "\n",
    "df_test_playlists_metadata = df_test_playlists_metadata.withColumn('num_holdouts', col('num_tracks') - col('num_samples'))"
   ]
  },
  {
   "cell_type": "code",
   "execution_count": 10,
   "metadata": {},
   "outputs": [],
   "source": [
    "# Find lengths for each set\n",
    "\n",
    "train_length = df_train_holdouts.toPandas().groupby('pid').tid.nunique()\n",
    "val_length = df_val_holdouts.toPandas().groupby('pid').tid.nunique()\n",
    "test_length = df_test_playlists_metadata.toPandas().set_index('pid').num_holdouts"
   ]
  },
  {
   "cell_type": "code",
   "execution_count": 31,
   "metadata": {},
   "outputs": [],
   "source": [
    "data = df_data.toPandas()\n",
    "tracks_info = df_tracks.toPandas()"
   ]
  },
  {
   "cell_type": "code",
   "execution_count": 32,
   "metadata": {
    "ExecuteTime": {
     "end_time": "2018-07-01T19:02:08.509974Z",
     "start_time": "2018-07-01T19:02:08.497981Z"
    },
    "scrolled": true
   },
   "outputs": [],
   "source": [
    "def create_count(df):\n",
    "    \n",
    "    tid_count = data.tid.value_counts()\n",
    "    pid_count = data.pid.value_counts()\n",
    "\n",
    "    df['tid_count'] = df.tid.map(tid_count).fillna(0)\n",
    "    df['pid_count'] = df.pid.map(pid_count).fillna(0)\n",
    "    \n",
    "    album_count = data.tid.map(tracks_info.album).value_counts()\n",
    "    artist_count = data.tid.map(tracks_info.artist).value_counts()\n",
    "    \n",
    "    df['album_count'] = df.tid.map(tracks_info.album).map(album_count).fillna(0)\n",
    "    df['artist_count'] = df.tid.map(tracks_info.artist).map(artist_count).fillna(0)"
   ]
  },
  {
   "cell_type": "code",
   "execution_count": 33,
   "metadata": {
    "ExecuteTime": {
     "end_time": "2018-07-01T19:02:08.516881Z",
     "start_time": "2018-07-01T19:02:08.511525Z"
    }
   },
   "outputs": [],
   "source": [
    "def isin(i, j):\n",
    "    if j is not np.nan:\n",
    "        return i in j\n",
    "    return False\n",
    "\n",
    "def isin_sum(i, j):\n",
    "    if j is not np.nan:\n",
    "        return (i == j).sum()\n",
    "    return 0"
   ]
  },
  {
   "cell_type": "code",
   "execution_count": 34,
   "metadata": {
    "ExecuteTime": {
     "end_time": "2018-07-01T19:02:08.529050Z",
     "start_time": "2018-07-01T19:02:08.518436Z"
    }
   },
   "outputs": [],
   "source": [
    "def create_artist_features(df):\n",
    "    \n",
    "    data_short = data[data.pid.isin(df.pid)]\n",
    "    pid_artist = data_short.tid.map(tracks_info.artist).groupby(data_short.pid).apply(np.array)\n",
    "    df_playlist = df.pid.map(pid_artist)\n",
    "    df_artist = df.tid.map(tracks_info.artist)\n",
    "    \n",
    "    share_unique = pid_artist.apply(np.unique).apply(len) / pid_artist.apply(len)\n",
    "    \n",
    "    df['share_of_unique_artist'] = df.pid.map(share_unique).fillna(-1)\n",
    "    df['sim_artist_in_playlist'] = [isin_sum(i, j) for i, j in zip(df_artist, df_playlist)]\n",
    "    df['mean_artist_in_playlist'] = (df['sim_artist_in_playlist'] / df.pid.map(pid_artist.apply(len))).fillna(-1)"
   ]
  },
  {
   "cell_type": "code",
   "execution_count": 35,
   "metadata": {
    "ExecuteTime": {
     "end_time": "2018-07-01T19:02:08.542133Z",
     "start_time": "2018-07-01T19:02:08.530813Z"
    }
   },
   "outputs": [],
   "source": [
    "def create_album_features(df):\n",
    "    \n",
    "    data_short = data[data.pid.isin(df.pid)]\n",
    "    pid_album = data_short.tid.map(tracks_info.album).groupby(data_short.pid).apply(np.array)\n",
    "    df_playlist = df.pid.map(pid_album)\n",
    "    df_album = df.tid.map(tracks_info.album)\n",
    "    \n",
    "    share_unique = pid_album.apply(np.unique).apply(len) / pid_album.apply(len)\n",
    "    \n",
    "    df['share_of_unique_album'] = df.pid.map(share_unique).fillna(-1)\n",
    "    df['sim_album_in_playlist'] = [isin_sum(i, j) for i, j in zip(df_album, df_playlist)]\n",
    "    df['mean_album_in_playlist'] = (df['sim_album_in_playlist'] / df.pid.map(pid_album.apply(len))).fillna(-1)\n"
   ]
  },
  {
   "cell_type": "code",
   "execution_count": 36,
   "metadata": {
    "ExecuteTime": {
     "end_time": "2018-07-01T19:02:08.547729Z",
     "start_time": "2018-07-01T19:02:08.543594Z"
    }
   },
   "outputs": [],
   "source": [
    "def create_features(df, df_length):\n",
    "    df = df.toPandas()\n",
    "    create_count(df)\n",
    "    create_artist_features(df)\n",
    "    create_album_features(df)\n",
    "    df['tracks_holdout'] = df.pid.map(df_length)\n",
    "    df = spark.createDataFrame(df)\n",
    "    return df"
   ]
  },
  {
   "cell_type": "code",
   "execution_count": null,
   "metadata": {
    "ExecuteTime": {
     "end_time": "2018-07-01T19:07:55.009098Z",
     "start_time": "2018-07-01T19:02:08.549317Z"
    }
   },
   "outputs": [
    {
     "name": "stdout",
     "output_type": "stream",
     "text": [
      "CPU times: user 4min 54s, sys: 18.4 s, total: 5min 12s\n",
      "Wall time: 5min 16s\n"
     ]
    }
   ],
   "source": [
    "%%time\n",
    "\n",
    "# Generate features for each candidate set\n",
    "\n",
    "df_train = create_features(df_train, train_length)\n",
    "df_val = create_features(df_val, val_length)\n",
    "df_test = create_features(df_test, test_length)"
   ]
  },
  {
   "cell_type": "code",
   "execution_count": null,
   "metadata": {
    "ExecuteTime": {
     "end_time": "2018-07-01T19:10:13.188095Z",
     "start_time": "2018-07-01T19:09:10.523703Z"
    }
   },
   "outputs": [],
   "source": [
    "# Load features\n",
    "\n",
    "train_co = spark.read.orc(path_to_df + '/ii_co_occurrence_features.orc').drop('target')\n",
    "val_co = spark.read.orc(path_to_df + '/iii_co_occurrence_features.orc').drop('target')\n",
    "test_co = spark.read.orc(path_to_df + '/test_co_occurrence_features.orc')\n",
    "\n",
    "train_lightfm = spark.read.orc(path_to_df + '/ii_lightfm_features.orc').drop('target')\n",
    "val_lightfm = spark.read.orc(path_to_df + '/iii_lightfm_features.orc').drop('target')\n",
    "test_lightfm = spark.read.orc(path_to_df + '/test_lightfm_features.orc')"
   ]
  },
  {
   "cell_type": "code",
   "execution_count": null,
   "metadata": {},
   "outputs": [],
   "source": [
    "# Join features to corresponding dataframes\n",
    "\n",
    "df_train = df_train.join(train_co, ['pid', 'tid'])\\\n",
    "                   .join(train_lightfm, ['pid', 'tid'])\n",
    "df_val = df_val.join(val_co, ['pid', 'tid'])\\\n",
    "               .join(val_lightfm, ['pid', 'tid'])\n",
    "df_test = df_test.join(test_co, ['pid', 'tid'])\\\n",
    "                 .join(test_lightfm, ['pid', 'tid'])"
   ]
  },
  {
   "cell_type": "code",
   "execution_count": null,
   "metadata": {
    "ExecuteTime": {
     "end_time": "2018-07-01T19:10:30.809755Z",
     "start_time": "2018-07-01T19:10:17.863416Z"
    },
    "scrolled": true
   },
   "outputs": [],
   "source": [
    "train = df_train.toPandas()"
   ]
  },
  {
   "cell_type": "code",
   "execution_count": null,
   "metadata": {
    "ExecuteTime": {
     "end_time": "2018-07-01T19:10:30.809755Z",
     "start_time": "2018-07-01T19:10:17.863416Z"
    },
    "scrolled": true
   },
   "outputs": [],
   "source": [
    "xgtrain = xgboost.DMatrix(train.drop(['pid', 'tid', 'target'], axis=1), train.target)"
   ]
  },
  {
   "cell_type": "code",
   "execution_count": null,
   "metadata": {},
   "outputs": [],
   "source": [
    "val = df_val.toPandas()"
   ]
  },
  {
   "cell_type": "code",
   "execution_count": null,
   "metadata": {
    "ExecuteTime": {
     "end_time": "2018-07-01T19:10:59.321047Z",
     "start_time": "2018-07-01T19:10:50.075145Z"
    }
   },
   "outputs": [],
   "source": [
    "xgval = xgboost.DMatrix(val.drop(['pid', 'tid', 'target'], axis=1), val.target)"
   ]
  },
  {
   "cell_type": "code",
   "execution_count": null,
   "metadata": {},
   "outputs": [],
   "source": [
    "test = df_test.toPandas()"
   ]
  },
  {
   "cell_type": "code",
   "execution_count": 30,
   "metadata": {},
   "outputs": [],
   "source": [
    "xgtest = xgboost.DMatrix(test.drop(['pid', 'tid'], axis=1))"
   ]
  },
  {
   "cell_type": "code",
   "execution_count": 40,
   "metadata": {
    "ExecuteTime": {
     "end_time": "2018-07-01T19:29:48.535134Z",
     "start_time": "2018-07-01T19:11:11.890696Z"
    },
    "scrolled": true
   },
   "outputs": [
    {
     "name": "stdout",
     "output_type": "stream",
     "text": [
      "[0]\ttrain-auc:0.76602\ttest-auc:0.76144\n",
      "[10]\ttrain-auc:0.77745\ttest-auc:0.77225\n",
      "[20]\ttrain-auc:0.77844\ttest-auc:0.77293\n",
      "[30]\ttrain-auc:0.77965\ttest-auc:0.77314\n",
      "[40]\ttrain-auc:0.78165\ttest-auc:0.77163\n",
      "[50]\ttrain-auc:0.78535\ttest-auc:0.76915\n",
      "[54]\ttrain-auc:0.78719\ttest-auc:0.76767\n",
      "CPU times: user 2h 11min 58s, sys: 4.41 s, total: 2h 12min 2s\n",
      "Wall time: 18min 16s\n"
     ]
    }
   ],
   "source": [
    "%%time\n",
    "\n",
    "# Train XGBoost model\n",
    "\n",
    "results = {}\n",
    "\n",
    "params = {\n",
    "    'objective':'binary:logistic',\n",
    "    'eta':0.1,\n",
    "    'booster':'gbtree',\n",
    "    'max_depth':7,\n",
    "    'nthread':16,\n",
    "    'seed':1,\n",
    "    'eval_metric':'auc',\n",
    "}\n",
    "\n",
    "model = xgboost.train(\n",
    "    params=list(params.items()),\n",
    "    early_stopping_rounds=30, \n",
    "    verbose_eval=10, \n",
    "    dtrain=xgtrain,\n",
    "    evals=[(xgtrain, 'train'), (xgval, 'test')],\n",
    "    evals_result=results,\n",
    "    num_boost_round=300,\n",
    ")"
   ]
  },
  {
   "cell_type": "code",
   "execution_count": 41,
   "metadata": {},
   "outputs": [],
   "source": [
    "# Save model\n",
    "\n",
    "import joblib\n",
    "\n",
    "path_to_models = 'models2'\n",
    "# joblib.dump(model, path_to_models + '/xgboost-ps1.pkl')\n",
    "model.save_model(path_to_models + '/xgboost-ps1.pkl')"
   ]
  },
  {
   "cell_type": "code",
   "execution_count": 34,
   "metadata": {
    "ExecuteTime": {
     "end_time": "2018-07-01T19:30:24.945539Z",
     "start_time": "2018-07-01T19:30:24.837151Z"
    }
   },
   "outputs": [],
   "source": [
    "score = model.predict(xgval)\n",
    "val['score'] = score"
   ]
  },
  {
   "cell_type": "code",
   "execution_count": 35,
   "metadata": {
    "ExecuteTime": {
     "end_time": "2018-07-01T19:30:45.367802Z",
     "start_time": "2018-07-01T19:30:25.454626Z"
    }
   },
   "outputs": [
    {
     "data": {
      "text/plain": [
       "0.08985909051319793"
      ]
     },
     "execution_count": 35,
     "metadata": {},
     "output_type": "execute_result"
    }
   ],
   "source": [
    "scores = []\n",
    "for pid, df, in val.sort_values('score', ascending=False).groupby('pid'):\n",
    "    n = val_length[pid]\n",
    "    scores.append(df[:n].target.sum() / n)\n",
    "np.mean(scores)"
   ]
  },
  {
   "cell_type": "code",
   "execution_count": 36,
   "metadata": {
    "ExecuteTime": {
     "end_time": "2018-07-01T19:31:06.020758Z",
     "start_time": "2018-07-01T19:30:45.369575Z"
    }
   },
   "outputs": [],
   "source": [
    "test['score'] = model.predict(xgtest)\n",
    "test = test.sort_values(['pid', 'score'], ascending=[True, False])\n",
    "recs = test.groupby('pid').tid.apply(lambda x: x.values[:500])\n",
    "tracks_info = df_tracks.toPandas()\n",
    "track_uri = tracks_info.track_uri "
   ]
  },
  {
   "cell_type": "code",
   "execution_count": 37,
   "metadata": {
    "ExecuteTime": {
     "end_time": "2018-07-01T19:31:10.800248Z",
     "start_time": "2018-07-01T19:31:06.022680Z"
    }
   },
   "outputs": [],
   "source": [
    "submission = open('submission-ps1.csv', 'w')\n",
    "submission.write('team_info,main,Exin,martin.alinggajaya@gmail.com\\n')\n",
    "\n",
    "for pid, tids in recs.items():\n",
    "    submission.write('{}, '.format(pid) + ', '.join(track_uri.loc[tids].values) + '\\n')\n",
    "    \n",
    "submission.close()"
   ]
  },
  {
   "cell_type": "code",
   "execution_count": 43,
   "metadata": {},
   "outputs": [
    {
     "data": {
      "text/plain": [
       "56"
      ]
     },
     "execution_count": 43,
     "metadata": {},
     "output_type": "execute_result"
    }
   ],
   "source": [
    "# Visualization\n",
    "\n",
    "epochs = len(results['train']['auc'])\n",
    "epochs"
   ]
  },
  {
   "cell_type": "code",
   "execution_count": 50,
   "metadata": {},
   "outputs": [],
   "source": [
    "import seaborn as sns\n",
    "import matplotlib.pyplot as plt\n",
    "\n",
    "xgboost_results = pd.DataFrame(zip(results['train']['auc'], results['test']['auc']), columns=['train', 'test'])\n",
    "# xgboost_results.index.name = 'epoch'\n",
    "# xgboost_results = xgboost_results.reset_index()\n"
   ]
  },
  {
   "cell_type": "code",
   "execution_count": 55,
   "metadata": {},
   "outputs": [
    {
     "data": {
      "text/plain": [
       "[Text(0.5, 0, 'epoch'), Text(0, 0.5, 'AUC')]"
      ]
     },
     "execution_count": 55,
     "metadata": {},
     "output_type": "execute_result"
    },
    {
     "data": {
      "image/png": "[encoded data removed]",
      "text/plain": [
       "<Figure size 432x288 with 1 Axes>"
      ]
     },
     "metadata": {
      "needs_background": "light"
     },
     "output_type": "display_data"
    }
   ],
   "source": [
    "ax = sns.lineplot(data=xgboost_results)\n",
    "ax.set(xlabel='epoch', ylabel='AUC')"
   ]
  },
  {
   "cell_type": "code",
   "execution_count": 58,
   "metadata": {},
   "outputs": [
    {
     "data": {
      "text/plain": [
       "{'lightfm_rank': 1238.1101418825915,\n",
       " 'co_occurrence_norm_mean': 1053.5777942915358,\n",
       " 'co_occurrence_norm_max': 778.3996257231034,\n",
       " 'lightfm_dot_product_text': 252.2121971296688,\n",
       " 'tracks_holdout': 224.78487323772012,\n",
       " 'lightfm_rank_text': 215.36311327343,\n",
       " 'co_occurrence_norm_median': 205.40436907346944,\n",
       " 'co_occurrence_mean': 182.67621112956363,\n",
       " 'co_occurrence_median': 129.23802272931817,\n",
       " 'co_occurrence_max': 119.08369811246347,\n",
       " 'lightfm_dot_product': 110.65282576022726,\n",
       " 'mean_artist_in_playlist': 90.49210288491737,\n",
       " 'co_occurrence_norm_min': 73.50669097130432,\n",
       " 'sim_artist_in_playlist': 68.34599651936368,\n",
       " 'tid_bias': 66.15819757774511,\n",
       " 'artist_count': 64.3892112303165,\n",
       " 'share_of_unique_album': 59.13493134189541,\n",
       " 'pid_bias': 48.59869837043823,\n",
       " 'lightfm_prediction': 46.817611420888866,\n",
       " 'co_occurrence_min': 44.894549774716985,\n",
       " 'share_of_unique_artist': 43.15823708891753,\n",
       " 'mean_album_in_playlist': 37.23956049192489,\n",
       " 'tid_bias_text': 36.1714219196,\n",
       " 'pid_count': 35.69574262186441,\n",
       " 'pid_bias_text': 35.58851960185567,\n",
       " 'tid_count': 35.57402040017755,\n",
       " 'lightfm_prediction_text': 29.550528756701027,\n",
       " 'album_count': 27.87962424184339,\n",
       " 'sim_album_in_playlist': 25.747233709291272}"
      ]
     },
     "execution_count": 58,
     "metadata": {},
     "output_type": "execute_result"
    }
   ],
   "source": [
    "# Feature importance based on gain\n",
    "\n",
    "feature_gain = model.get_score(importance_type='gain')\n",
    "sorted_feature_gain = {k: v for k, v in sorted(feature_gain.items(), key=lambda x: x[1], reverse=True)}\n",
    "sorted_feature_gain"
   ]
  },
  {
   "cell_type": "code",
   "execution_count": 53,
   "metadata": {},
   "outputs": [],
   "source": [
    "# Save train, val, and test\n",
    "\n",
    "train.to_hdf('df_data2/train_final.hdf', key='abc')\n",
    "val.to_hdf('df_data2/val_final.hdf', key='abc')\n",
    "test.to_hdf('df_data2/test_final.hdf', key='abc')"
   ]
  },
  {
   "cell_type": "code",
   "execution_count": null,
   "metadata": {},
   "outputs": [],
   "source": []
  }
 ],
 "metadata": {
  "kernelspec": {
   "display_name": "Python 3",
   "language": "python",
   "name": "python3"
  },
  "language_info": {
   "codemirror_mode": {
    "name": "ipython",
    "version": 3
   },
   "file_extension": ".py",
   "mimetype": "text/x-python",
   "name": "python",
   "nbconvert_exporter": "python",
   "pygments_lexer": "ipython3",
   "version": "3.8.8"
  }
 },
 "nbformat": 4,
 "nbformat_minor": 4
}
