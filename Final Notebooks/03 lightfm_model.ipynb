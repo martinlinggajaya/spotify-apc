{
 "cells": [
  {
   "cell_type": "code",
   "execution_count": 1,
   "metadata": {
    "ExecuteTime": {
     "end_time": "2018-07-01T15:18:18.905289Z",
     "start_time": "2018-07-01T15:18:18.899944Z"
    }
   },
   "outputs": [],
   "source": [
    "import os\n",
    "os.environ['OPENBLAS_NUM_THREADS'] = '1'\n",
    "os.environ['OMP_NUM_THREADS'] = '1'"
   ]
  },
  {
   "cell_type": "code",
   "execution_count": 2,
   "metadata": {},
   "outputs": [
    {
     "name": "stderr",
     "output_type": "stream",
     "text": [
      "/opt/anaconda3/envs/thesis/lib/python3.8/site-packages/lightfm/_lightfm_fast.py:9: UserWarning: LightFM was compiled without OpenMP support. Only a single thread will be used.\n",
      "  warnings.warn(\n"
     ]
    }
   ],
   "source": [
    "import findspark\n",
    "findspark.init()\n",
    "import pyspark\n",
    "import numpy as np\n",
    "import scipy.sparse as sp\n",
    "from lightfm import LightFM"
   ]
  },
  {
   "cell_type": "code",
   "execution_count": 3,
   "metadata": {},
   "outputs": [],
   "source": [
    "# Initialize pyspark\n",
    "\n",
    "from pyspark.sql import SparkSession\n",
    "\n",
    "spark = SparkSession.builder \\\n",
    "                    .config(\"spark.driver.memory\", \"12g\") \\\n",
    "                    .config(\"spark.sql.orc.filterPushdown\", \"true\") \\\n",
    "                    .appName(\"LightFM Model\") \\\n",
    "                    .getOrCreate()"
   ]
  },
  {
   "cell_type": "code",
   "execution_count": 4,
   "metadata": {},
   "outputs": [],
   "source": [
    "# Load dataframes\n",
    "\n",
    "import joblib\n",
    "\n",
    "path_to_df = '/Volumes/T5/PROJECTS/U. THESIS/Dataset/df_data'\n",
    "\n",
    "df_tracks = spark.read.orc(path_to_df + '/df_tracks.orc')\n",
    "df_playlists = spark.read.orc(path_to_df + '/df_playlists.orc')\n",
    "df_playlists_metadata = spark.read.orc(path_to_df + '/df_playlists_metadata.orc')\n",
    "\n",
    "df_train = spark.read.orc(path_to_df + '/df_train.orc')\n",
    "df_val = spark.read.orc(path_to_df + '/df_val1.orc')"
   ]
  },
  {
   "cell_type": "code",
   "execution_count": 5,
   "metadata": {
    "ExecuteTime": {
     "end_time": "2018-07-01T15:19:30.943469Z",
     "start_time": "2018-07-01T15:19:30.912781Z"
    }
   },
   "outputs": [],
   "source": [
    "# Setup LightFM configuration\n",
    "\n",
    "pid_max = df_playlists_metadata.agg({'pid': 'max'}).collect()[0]['max(pid)']\n",
    "tid_max = df_tracks.agg({'tid': 'max'}).collect()[0]['max(tid)']\n",
    "\n",
    "config = {\n",
    "    'num_playlists': pid_max + 1,\n",
    "    'num_tracks': tid_max + 1,\n",
    "}"
   ]
  },
  {
   "cell_type": "code",
   "execution_count": 6,
   "metadata": {
    "ExecuteTime": {
     "end_time": "2018-07-01T15:19:31.867927Z",
     "start_time": "2018-07-01T15:19:30.946052Z"
    }
   },
   "outputs": [],
   "source": [
    "# Setup sparse matrix for training\n",
    "\n",
    "train_row_indices = df_train.select('pid').rdd.flatMap(lambda x: x).collect()\n",
    "train_col_indices = df_train.select('tid').rdd.flatMap(lambda x: x).collect()\n",
    "\n",
    "X_train = sp.coo_matrix(\n",
    "    (np.ones(df_train.count()), (train_row_indices, train_col_indices)),\n",
    "    shape=(config['num_playlists'], config['num_tracks'])\n",
    ")"
   ]
  },
  {
   "cell_type": "code",
   "execution_count": 7,
   "metadata": {},
   "outputs": [],
   "source": [
    "# Setup sparse matrix for validation\n",
    "\n",
    "val_row_indices = df_val.select('pid').rdd.flatMap(lambda x: x).collect()\n",
    "val_col_indices = df_val.select('tid').rdd.flatMap(lambda x: x).collect()\n",
    "\n",
    "X_val = sp.coo_matrix(\n",
    "    (np.ones(df_val.count()), (val_row_indices, val_col_indices)),\n",
    "    shape=(config['num_playlists'], config['num_tracks'])\n",
    ")"
   ]
  },
  {
   "cell_type": "code",
   "execution_count": 8,
   "metadata": {},
   "outputs": [],
   "source": [
    "config['model_path'] = '/Volumes/T5/PROJECTS/U. THESIS/models/lightfm_model.pkl'"
   ]
  },
  {
   "cell_type": "code",
   "execution_count": 9,
   "metadata": {
    "ExecuteTime": {
     "end_time": "2018-07-01T15:30:18.392092Z",
     "start_time": "2018-07-01T15:19:31.873766Z"
    }
   },
   "outputs": [],
   "source": [
    "# Declare model\n",
    "\n",
    "model = LightFM(no_components=200, loss='warp', learning_rate=0.02, max_sampled=400, random_state=1, user_alpha=1e-05)\n",
    "\n",
    "best_score = 0"
   ]
  },
  {
   "cell_type": "code",
   "execution_count": 12,
   "metadata": {
    "ExecuteTime": {
     "end_time": "2018-07-01T15:30:18.392092Z",
     "start_time": "2018-07-01T15:19:31.873766Z"
    }
   },
   "outputs": [
    {
     "name": "stdout",
     "output_type": "stream",
     "text": [
      "Epoch: 0\n",
      "0.04026227\n",
      "Epoch: 1\n",
      "0.042764384\n",
      "CPU times: user 1h 38min 16s, sys: 28 s, total: 1h 38min 44s\n",
      "Wall time: 1h 39min 17s\n"
     ]
    }
   ],
   "source": [
    "%%time\n",
    "\n",
    "# Fit the model\n",
    "# Note: Here fit_partial is used, meaning multiple calls to the function will continue from the previous state\n",
    "\n",
    "from lightfm.evaluation import precision_at_k\n",
    "\n",
    "for i in range(2): # range=60\n",
    "    \n",
    "    print('Epoch: {}'.format(i))\n",
    "    \n",
    "    model.fit_partial(X_train, epochs=5, num_threads=1) # epochs=5, num_threads=50\n",
    "    \n",
    "    score = []\n",
    "    precision = precision_at_k(model, X_val, \n",
    "                               train_interactions=X_train, \n",
    "                               k=600, check_intersections=False, num_threads=1)\n",
    "    score.append(precision)\n",
    "    \n",
    "    score = np.mean(score)\n",
    "    print(score)\n",
    "    if score > best_score:\n",
    "        joblib.dump(model, open(config['model_path'], 'wb'))\n",
    "        best_score = score"
   ]
  },
  {
   "cell_type": "code",
   "execution_count": 14,
   "metadata": {},
   "outputs": [],
   "source": [
    "# best_score"
   ]
  },
  {
   "cell_type": "code",
   "execution_count": null,
   "metadata": {},
   "outputs": [],
   "source": []
  }
 ],
 "metadata": {
  "kernelspec": {
   "display_name": "Python 3",
   "language": "python",
   "name": "python3"
  },
  "language_info": {
   "codemirror_mode": {
    "name": "ipython",
    "version": 3
   },
   "file_extension": ".py",
   "mimetype": "text/x-python",
   "name": "python",
   "nbconvert_exporter": "python",
   "pygments_lexer": "ipython3",
   "version": "3.8.8"
  }
 },
 "nbformat": 4,
 "nbformat_minor": 4
}
